{
 "cells": [
  {
   "cell_type": "code",
   "execution_count": 1,
   "id": "d2e710e8-1a7e-4de3-8e1d-ab4ee649859a",
   "metadata": {},
   "outputs": [
    {
     "name": "stdout",
     "output_type": "stream",
     "text": [
      "Report successfully printed in PyRamen/Result.txt\n"
     ]
    }
   ],
   "source": [
    "%run PyRamen.py"
   ]
  },
  {
   "cell_type": "code",
   "execution_count": null,
   "id": "a1331338-8dd4-49e3-9d27-927dc9b3ce75",
   "metadata": {},
   "outputs": [],
   "source": []
  }
 ],
 "metadata": {
  "kernelspec": {
   "display_name": "Python 3 (ipykernel)",
   "language": "python",
   "name": "python3"
  },
  "language_info": {
   "codemirror_mode": {
    "name": "ipython",
    "version": 3
   },
   "file_extension": ".py",
   "mimetype": "text/x-python",
   "name": "python",
   "nbconvert_exporter": "python",
   "pygments_lexer": "ipython3",
   "version": "3.7.13"
  }
 },
 "nbformat": 4,
 "nbformat_minor": 5
}
