{
 "cells": [
  {
   "cell_type": "code",
   "execution_count": 1,
   "id": "3999be11-244f-43ab-823a-27c1f2ad4e2e",
   "metadata": {},
   "outputs": [
    {
     "name": "stdout",
     "output_type": "stream",
     "text": [
      "Financial Analysis\n",
      "--------------------------------------------------\n",
      "Total Months : 86\n",
      "Total : $38382578\n",
      "Average Change : $ -2315.12\n",
      "Greatest Increase in Profits: Feb-2012 $1926159\n",
      "Greatest Decrease in losses: Sep-2013 $-2196167\n",
      "--------------------------------------------------\n"
     ]
    }
   ],
   "source": [
    "%run revenue.py\n",
    "\n"
   ]
  }
 ],
 "metadata": {
  "kernelspec": {
   "display_name": "Python 3 (ipykernel)",
   "language": "python",
   "name": "python3"
  },
  "language_info": {
   "codemirror_mode": {
    "name": "ipython",
    "version": 3
   },
   "file_extension": ".py",
   "mimetype": "text/x-python",
   "name": "python",
   "nbconvert_exporter": "python",
   "pygments_lexer": "ipython3",
   "version": "3.7.13"
  }
 },
 "nbformat": 4,
 "nbformat_minor": 5
}
